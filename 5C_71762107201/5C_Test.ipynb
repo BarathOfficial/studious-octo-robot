{
 "cells": [
  {
   "cell_type": "code",
   "execution_count": 37,
   "id": "4a26c78c",
   "metadata": {},
   "outputs": [],
   "source": [
    "import pandas as pd\n",
    "import numpy as np\n",
    "import matplotlib.pyplot as plt\n",
    "import seaborn as sns"
   ]
  },
  {
   "cell_type": "code",
   "execution_count": 5,
   "id": "04163a91",
   "metadata": {},
   "outputs": [],
   "source": [
    "df1 = pd.read_csv('sales_data_1.csv')"
   ]
  },
  {
   "cell_type": "code",
   "execution_count": 6,
   "id": "c79a78db",
   "metadata": {},
   "outputs": [],
   "source": [
    "df1_cpy = df1.copy()"
   ]
  },
  {
   "cell_type": "code",
   "execution_count": 8,
   "id": "6eda64d4",
   "metadata": {},
   "outputs": [
    {
     "data": {
      "text/html": [
       "<div>\n",
       "<style scoped>\n",
       "    .dataframe tbody tr th:only-of-type {\n",
       "        vertical-align: middle;\n",
       "    }\n",
       "\n",
       "    .dataframe tbody tr th {\n",
       "        vertical-align: top;\n",
       "    }\n",
       "\n",
       "    .dataframe thead th {\n",
       "        text-align: right;\n",
       "    }\n",
       "</style>\n",
       "<table border=\"1\" class=\"dataframe\">\n",
       "  <thead>\n",
       "    <tr style=\"text-align: right;\">\n",
       "      <th></th>\n",
       "      <th>Date</th>\n",
       "      <th>Firm bought from</th>\n",
       "      <th>Buying price</th>\n",
       "      <th>Customer</th>\n",
       "      <th>Selling price</th>\n",
       "      <th>Quantity sold</th>\n",
       "    </tr>\n",
       "  </thead>\n",
       "  <tbody>\n",
       "    <tr>\n",
       "      <th>0</th>\n",
       "      <td>21/08/23</td>\n",
       "      <td>Vendor6</td>\n",
       "      <td>72.11</td>\n",
       "      <td>Customer7</td>\n",
       "      <td>91.58</td>\n",
       "      <td>44</td>\n",
       "    </tr>\n",
       "    <tr>\n",
       "      <th>1</th>\n",
       "      <td>21/08/23</td>\n",
       "      <td>Vendor4</td>\n",
       "      <td>75.08</td>\n",
       "      <td>Customer7</td>\n",
       "      <td>83.71</td>\n",
       "      <td>17</td>\n",
       "    </tr>\n",
       "    <tr>\n",
       "      <th>2</th>\n",
       "      <td>21/08/23</td>\n",
       "      <td>Vendor7</td>\n",
       "      <td>83.93</td>\n",
       "      <td>Customer2</td>\n",
       "      <td>103.76</td>\n",
       "      <td>15</td>\n",
       "    </tr>\n",
       "    <tr>\n",
       "      <th>3</th>\n",
       "      <td>21/08/23</td>\n",
       "      <td>Vendor7</td>\n",
       "      <td>52.01</td>\n",
       "      <td>Customer3</td>\n",
       "      <td>64.53</td>\n",
       "      <td>7</td>\n",
       "    </tr>\n",
       "    <tr>\n",
       "      <th>4</th>\n",
       "      <td>21/08/23</td>\n",
       "      <td>Vendor2</td>\n",
       "      <td>98.91</td>\n",
       "      <td>Customer5</td>\n",
       "      <td>140.92</td>\n",
       "      <td>1</td>\n",
       "    </tr>\n",
       "  </tbody>\n",
       "</table>\n",
       "</div>"
      ],
      "text/plain": [
       "       Date Firm bought from  Buying price   Customer  Selling price  \\\n",
       "0  21/08/23          Vendor6         72.11  Customer7          91.58   \n",
       "1  21/08/23          Vendor4         75.08  Customer7          83.71   \n",
       "2  21/08/23          Vendor7         83.93  Customer2         103.76   \n",
       "3  21/08/23          Vendor7         52.01  Customer3          64.53   \n",
       "4  21/08/23          Vendor2         98.91  Customer5         140.92   \n",
       "\n",
       "   Quantity sold  \n",
       "0             44  \n",
       "1             17  \n",
       "2             15  \n",
       "3              7  \n",
       "4              1  "
      ]
     },
     "execution_count": 8,
     "metadata": {},
     "output_type": "execute_result"
    }
   ],
   "source": [
    "df1_cpy.head()"
   ]
  },
  {
   "cell_type": "markdown",
   "id": "2a07e9c8",
   "metadata": {},
   "source": [
    "## 1. what is the overall gross margin for their business?"
   ]
  },
  {
   "cell_type": "code",
   "execution_count": 10,
   "id": "8bec5f6b",
   "metadata": {},
   "outputs": [],
   "source": [
    "df1_cpy['Gross Margin'] = (df1_cpy['Selling price'] - df1_cpy['Buying price']) * df1_cpy['Quantity sold']"
   ]
  },
  {
   "cell_type": "code",
   "execution_count": 11,
   "id": "5731b7c6",
   "metadata": {},
   "outputs": [
    {
     "data": {
      "text/html": [
       "<div>\n",
       "<style scoped>\n",
       "    .dataframe tbody tr th:only-of-type {\n",
       "        vertical-align: middle;\n",
       "    }\n",
       "\n",
       "    .dataframe tbody tr th {\n",
       "        vertical-align: top;\n",
       "    }\n",
       "\n",
       "    .dataframe thead th {\n",
       "        text-align: right;\n",
       "    }\n",
       "</style>\n",
       "<table border=\"1\" class=\"dataframe\">\n",
       "  <thead>\n",
       "    <tr style=\"text-align: right;\">\n",
       "      <th></th>\n",
       "      <th>Date</th>\n",
       "      <th>Firm bought from</th>\n",
       "      <th>Buying price</th>\n",
       "      <th>Customer</th>\n",
       "      <th>Selling price</th>\n",
       "      <th>Quantity sold</th>\n",
       "      <th>Gross Margin</th>\n",
       "    </tr>\n",
       "  </thead>\n",
       "  <tbody>\n",
       "    <tr>\n",
       "      <th>0</th>\n",
       "      <td>21/08/23</td>\n",
       "      <td>Vendor6</td>\n",
       "      <td>72.11</td>\n",
       "      <td>Customer7</td>\n",
       "      <td>91.58</td>\n",
       "      <td>44</td>\n",
       "      <td>856.68</td>\n",
       "    </tr>\n",
       "    <tr>\n",
       "      <th>1</th>\n",
       "      <td>21/08/23</td>\n",
       "      <td>Vendor4</td>\n",
       "      <td>75.08</td>\n",
       "      <td>Customer7</td>\n",
       "      <td>83.71</td>\n",
       "      <td>17</td>\n",
       "      <td>146.71</td>\n",
       "    </tr>\n",
       "    <tr>\n",
       "      <th>2</th>\n",
       "      <td>21/08/23</td>\n",
       "      <td>Vendor7</td>\n",
       "      <td>83.93</td>\n",
       "      <td>Customer2</td>\n",
       "      <td>103.76</td>\n",
       "      <td>15</td>\n",
       "      <td>297.45</td>\n",
       "    </tr>\n",
       "    <tr>\n",
       "      <th>3</th>\n",
       "      <td>21/08/23</td>\n",
       "      <td>Vendor7</td>\n",
       "      <td>52.01</td>\n",
       "      <td>Customer3</td>\n",
       "      <td>64.53</td>\n",
       "      <td>7</td>\n",
       "      <td>87.64</td>\n",
       "    </tr>\n",
       "    <tr>\n",
       "      <th>4</th>\n",
       "      <td>21/08/23</td>\n",
       "      <td>Vendor2</td>\n",
       "      <td>98.91</td>\n",
       "      <td>Customer5</td>\n",
       "      <td>140.92</td>\n",
       "      <td>1</td>\n",
       "      <td>42.01</td>\n",
       "    </tr>\n",
       "  </tbody>\n",
       "</table>\n",
       "</div>"
      ],
      "text/plain": [
       "       Date Firm bought from  Buying price   Customer  Selling price  \\\n",
       "0  21/08/23          Vendor6         72.11  Customer7          91.58   \n",
       "1  21/08/23          Vendor4         75.08  Customer7          83.71   \n",
       "2  21/08/23          Vendor7         83.93  Customer2         103.76   \n",
       "3  21/08/23          Vendor7         52.01  Customer3          64.53   \n",
       "4  21/08/23          Vendor2         98.91  Customer5         140.92   \n",
       "\n",
       "   Quantity sold  Gross Margin  \n",
       "0             44        856.68  \n",
       "1             17        146.71  \n",
       "2             15        297.45  \n",
       "3              7         87.64  \n",
       "4              1         42.01  "
      ]
     },
     "execution_count": 11,
     "metadata": {},
     "output_type": "execute_result"
    }
   ],
   "source": [
    "df1_cpy.head()"
   ]
  },
  {
   "cell_type": "code",
   "execution_count": 14,
   "id": "7991e587",
   "metadata": {},
   "outputs": [],
   "source": [
    "overall_gross_margin = df1_cpy['Gross Margin'].sum()"
   ]
  },
  {
   "cell_type": "code",
   "execution_count": 15,
   "id": "cad7bae2",
   "metadata": {},
   "outputs": [
    {
     "name": "stdout",
     "output_type": "stream",
     "text": [
      "The overall gross margin for the business is: 31482.749999999996\n"
     ]
    }
   ],
   "source": [
    "print(f\"The overall gross margin for the business is: {overall_gross_margin}\")"
   ]
  },
  {
   "cell_type": "markdown",
   "id": "5f004f4f",
   "metadata": {},
   "source": [
    "## 2. Which vendor is the most profitable?"
   ]
  },
  {
   "cell_type": "code",
   "execution_count": 16,
   "id": "84cb6c7b",
   "metadata": {},
   "outputs": [],
   "source": [
    "df1_cpy['Profit'] = (df1_cpy['Selling price'] - df1_cpy['Buying price']) * df1_cpy['Quantity sold']"
   ]
  },
  {
   "cell_type": "code",
   "execution_count": 17,
   "id": "fd232170",
   "metadata": {},
   "outputs": [
    {
     "data": {
      "text/html": [
       "<div>\n",
       "<style scoped>\n",
       "    .dataframe tbody tr th:only-of-type {\n",
       "        vertical-align: middle;\n",
       "    }\n",
       "\n",
       "    .dataframe tbody tr th {\n",
       "        vertical-align: top;\n",
       "    }\n",
       "\n",
       "    .dataframe thead th {\n",
       "        text-align: right;\n",
       "    }\n",
       "</style>\n",
       "<table border=\"1\" class=\"dataframe\">\n",
       "  <thead>\n",
       "    <tr style=\"text-align: right;\">\n",
       "      <th></th>\n",
       "      <th>Date</th>\n",
       "      <th>Firm bought from</th>\n",
       "      <th>Buying price</th>\n",
       "      <th>Customer</th>\n",
       "      <th>Selling price</th>\n",
       "      <th>Quantity sold</th>\n",
       "      <th>Gross Margin</th>\n",
       "      <th>Profit</th>\n",
       "    </tr>\n",
       "  </thead>\n",
       "  <tbody>\n",
       "    <tr>\n",
       "      <th>0</th>\n",
       "      <td>21/08/23</td>\n",
       "      <td>Vendor6</td>\n",
       "      <td>72.11</td>\n",
       "      <td>Customer7</td>\n",
       "      <td>91.58</td>\n",
       "      <td>44</td>\n",
       "      <td>856.68</td>\n",
       "      <td>856.68</td>\n",
       "    </tr>\n",
       "    <tr>\n",
       "      <th>1</th>\n",
       "      <td>21/08/23</td>\n",
       "      <td>Vendor4</td>\n",
       "      <td>75.08</td>\n",
       "      <td>Customer7</td>\n",
       "      <td>83.71</td>\n",
       "      <td>17</td>\n",
       "      <td>146.71</td>\n",
       "      <td>146.71</td>\n",
       "    </tr>\n",
       "    <tr>\n",
       "      <th>2</th>\n",
       "      <td>21/08/23</td>\n",
       "      <td>Vendor7</td>\n",
       "      <td>83.93</td>\n",
       "      <td>Customer2</td>\n",
       "      <td>103.76</td>\n",
       "      <td>15</td>\n",
       "      <td>297.45</td>\n",
       "      <td>297.45</td>\n",
       "    </tr>\n",
       "    <tr>\n",
       "      <th>3</th>\n",
       "      <td>21/08/23</td>\n",
       "      <td>Vendor7</td>\n",
       "      <td>52.01</td>\n",
       "      <td>Customer3</td>\n",
       "      <td>64.53</td>\n",
       "      <td>7</td>\n",
       "      <td>87.64</td>\n",
       "      <td>87.64</td>\n",
       "    </tr>\n",
       "    <tr>\n",
       "      <th>4</th>\n",
       "      <td>21/08/23</td>\n",
       "      <td>Vendor2</td>\n",
       "      <td>98.91</td>\n",
       "      <td>Customer5</td>\n",
       "      <td>140.92</td>\n",
       "      <td>1</td>\n",
       "      <td>42.01</td>\n",
       "      <td>42.01</td>\n",
       "    </tr>\n",
       "  </tbody>\n",
       "</table>\n",
       "</div>"
      ],
      "text/plain": [
       "       Date Firm bought from  Buying price   Customer  Selling price  \\\n",
       "0  21/08/23          Vendor6         72.11  Customer7          91.58   \n",
       "1  21/08/23          Vendor4         75.08  Customer7          83.71   \n",
       "2  21/08/23          Vendor7         83.93  Customer2         103.76   \n",
       "3  21/08/23          Vendor7         52.01  Customer3          64.53   \n",
       "4  21/08/23          Vendor2         98.91  Customer5         140.92   \n",
       "\n",
       "   Quantity sold  Gross Margin  Profit  \n",
       "0             44        856.68  856.68  \n",
       "1             17        146.71  146.71  \n",
       "2             15        297.45  297.45  \n",
       "3              7         87.64   87.64  \n",
       "4              1         42.01   42.01  "
      ]
     },
     "execution_count": 17,
     "metadata": {},
     "output_type": "execute_result"
    }
   ],
   "source": [
    "df1_cpy.head()"
   ]
  },
  {
   "cell_type": "code",
   "execution_count": 20,
   "id": "6d524c10",
   "metadata": {},
   "outputs": [],
   "source": [
    "most_profitable_vendor_index = df1_cpy['Profit'].idxmax()"
   ]
  },
  {
   "cell_type": "code",
   "execution_count": 35,
   "id": "f53b2456",
   "metadata": {},
   "outputs": [],
   "source": [
    "most_profitable_vendor = df1_cpy.loc[most_profitable_vendor_index]"
   ]
  },
  {
   "cell_type": "code",
   "execution_count": 36,
   "id": "71183203",
   "metadata": {},
   "outputs": [
    {
     "data": {
      "text/plain": [
       "Date                 21/08/23\n",
       "Firm bought from      Vendor3\n",
       "Buying price            98.11\n",
       "Customer            Customer2\n",
       "Selling price          146.76\n",
       "Quantity sold              62\n",
       "Gross Margin           3016.3\n",
       "Profit                 3016.3\n",
       "Name: 7, dtype: object"
      ]
     },
     "execution_count": 36,
     "metadata": {},
     "output_type": "execute_result"
    }
   ],
   "source": [
    "most_profitable_vendor"
   ]
  },
  {
   "cell_type": "code",
   "execution_count": 34,
   "id": "ded8560c",
   "metadata": {},
   "outputs": [
    {
     "name": "stdout",
     "output_type": "stream",
     "text": [
      "The most profitable vendor is: Vendor3\n"
     ]
    }
   ],
   "source": [
    "print(f\"The most profitable vendor is: {most_profitable_vendor['Firm bought from']}\")"
   ]
  },
  {
   "cell_type": "markdown",
   "id": "72faf648",
   "metadata": {},
   "source": [
    "## 3. which customer is the least profitable?"
   ]
  },
  {
   "cell_type": "code",
   "execution_count": 30,
   "id": "63275ff4",
   "metadata": {},
   "outputs": [],
   "source": [
    "customer_profit = df1_cpy.groupby('Customer')['Profit'].sum()"
   ]
  },
  {
   "cell_type": "code",
   "execution_count": 31,
   "id": "cf7c5b2e",
   "metadata": {},
   "outputs": [],
   "source": [
    "least_profitable_customer = customer_profit.idxmin()"
   ]
  },
  {
   "cell_type": "code",
   "execution_count": 75,
   "id": "49158e55",
   "metadata": {},
   "outputs": [
    {
     "name": "stdout",
     "output_type": "stream",
     "text": [
      "The least profitable customer is: Customer3\n"
     ]
    }
   ],
   "source": [
    "print(f\"The least profitable customer is: {least_profitable_customer}\")"
   ]
  },
  {
   "cell_type": "markdown",
   "id": "ee082efd",
   "metadata": {},
   "source": [
    "## 4. Which day of the week was most profitable for them"
   ]
  },
  {
   "cell_type": "code",
   "execution_count": 78,
   "id": "db5fd8c9",
   "metadata": {},
   "outputs": [],
   "source": [
    "df1_cpy['Day_of_Week'] = df1_cpy['Date'].dt.day_name()"
   ]
  },
  {
   "cell_type": "code",
   "execution_count": 81,
   "id": "38b96eb4",
   "metadata": {},
   "outputs": [
    {
     "data": {
      "text/html": [
       "<div>\n",
       "<style scoped>\n",
       "    .dataframe tbody tr th:only-of-type {\n",
       "        vertical-align: middle;\n",
       "    }\n",
       "\n",
       "    .dataframe tbody tr th {\n",
       "        vertical-align: top;\n",
       "    }\n",
       "\n",
       "    .dataframe thead th {\n",
       "        text-align: right;\n",
       "    }\n",
       "</style>\n",
       "<table border=\"1\" class=\"dataframe\">\n",
       "  <thead>\n",
       "    <tr style=\"text-align: right;\">\n",
       "      <th></th>\n",
       "      <th>Date</th>\n",
       "      <th>Firm bought from</th>\n",
       "      <th>Buying price</th>\n",
       "      <th>Customer</th>\n",
       "      <th>Selling price</th>\n",
       "      <th>Quantity sold</th>\n",
       "      <th>Gross Margin</th>\n",
       "      <th>Profit</th>\n",
       "      <th>Day_of_Week</th>\n",
       "    </tr>\n",
       "  </thead>\n",
       "  <tbody>\n",
       "    <tr>\n",
       "      <th>0</th>\n",
       "      <td>2023-08-21</td>\n",
       "      <td>Vendor6</td>\n",
       "      <td>72.11</td>\n",
       "      <td>Customer7</td>\n",
       "      <td>91.58</td>\n",
       "      <td>44</td>\n",
       "      <td>856.68</td>\n",
       "      <td>856.68</td>\n",
       "      <td>Monday</td>\n",
       "    </tr>\n",
       "    <tr>\n",
       "      <th>1</th>\n",
       "      <td>2023-08-21</td>\n",
       "      <td>Vendor4</td>\n",
       "      <td>75.08</td>\n",
       "      <td>Customer7</td>\n",
       "      <td>83.71</td>\n",
       "      <td>17</td>\n",
       "      <td>146.71</td>\n",
       "      <td>146.71</td>\n",
       "      <td>Monday</td>\n",
       "    </tr>\n",
       "    <tr>\n",
       "      <th>2</th>\n",
       "      <td>2023-08-21</td>\n",
       "      <td>Vendor7</td>\n",
       "      <td>83.93</td>\n",
       "      <td>Customer2</td>\n",
       "      <td>103.76</td>\n",
       "      <td>15</td>\n",
       "      <td>297.45</td>\n",
       "      <td>297.45</td>\n",
       "      <td>Monday</td>\n",
       "    </tr>\n",
       "    <tr>\n",
       "      <th>3</th>\n",
       "      <td>2023-08-21</td>\n",
       "      <td>Vendor7</td>\n",
       "      <td>52.01</td>\n",
       "      <td>Customer3</td>\n",
       "      <td>64.53</td>\n",
       "      <td>7</td>\n",
       "      <td>87.64</td>\n",
       "      <td>87.64</td>\n",
       "      <td>Monday</td>\n",
       "    </tr>\n",
       "    <tr>\n",
       "      <th>4</th>\n",
       "      <td>2023-08-21</td>\n",
       "      <td>Vendor2</td>\n",
       "      <td>98.91</td>\n",
       "      <td>Customer5</td>\n",
       "      <td>140.92</td>\n",
       "      <td>1</td>\n",
       "      <td>42.01</td>\n",
       "      <td>42.01</td>\n",
       "      <td>Monday</td>\n",
       "    </tr>\n",
       "  </tbody>\n",
       "</table>\n",
       "</div>"
      ],
      "text/plain": [
       "        Date Firm bought from  Buying price   Customer  Selling price  \\\n",
       "0 2023-08-21          Vendor6         72.11  Customer7          91.58   \n",
       "1 2023-08-21          Vendor4         75.08  Customer7          83.71   \n",
       "2 2023-08-21          Vendor7         83.93  Customer2         103.76   \n",
       "3 2023-08-21          Vendor7         52.01  Customer3          64.53   \n",
       "4 2023-08-21          Vendor2         98.91  Customer5         140.92   \n",
       "\n",
       "   Quantity sold  Gross Margin  Profit Day_of_Week  \n",
       "0             44        856.68  856.68      Monday  \n",
       "1             17        146.71  146.71      Monday  \n",
       "2             15        297.45  297.45      Monday  \n",
       "3              7         87.64   87.64      Monday  \n",
       "4              1         42.01   42.01      Monday  "
      ]
     },
     "execution_count": 81,
     "metadata": {},
     "output_type": "execute_result"
    }
   ],
   "source": [
    "df1_cpy.head()"
   ]
  },
  {
   "cell_type": "code",
   "execution_count": 82,
   "id": "2cea2170",
   "metadata": {},
   "outputs": [],
   "source": [
    "grouped_df = df1_cpy.groupby('Day_of_Week')['Profit'].sum()\n"
   ]
  },
  {
   "cell_type": "code",
   "execution_count": 84,
   "id": "1934cf54",
   "metadata": {},
   "outputs": [],
   "source": [
    "most_profitable_day = grouped_df.idxmax()\n"
   ]
  },
  {
   "cell_type": "code",
   "execution_count": 86,
   "id": "16125374",
   "metadata": {},
   "outputs": [
    {
     "name": "stdout",
     "output_type": "stream",
     "text": [
      "The most profitable day of the week was: Monday\n"
     ]
    }
   ],
   "source": [
    "print(f\"The most profitable day of the week was: {most_profitable_day}\")"
   ]
  },
  {
   "cell_type": "markdown",
   "id": "79f0ba3c",
   "metadata": {},
   "source": [
    "## 5. Which day of the week was the least profitable for them?"
   ]
  },
  {
   "cell_type": "code",
   "execution_count": 74,
   "id": "5acd2f8f",
   "metadata": {},
   "outputs": [],
   "source": [
    "pivot_table = pd.pivot_table(df1_cpy, values='Profit', index=df1_cpy['Date'].dt.day_name(),  aggfunc='sum', fill_value=0)"
   ]
  },
  {
   "cell_type": "code",
   "execution_count": 66,
   "id": "90bd1f99",
   "metadata": {},
   "outputs": [
    {
     "data": {
      "text/html": [
       "<div>\n",
       "<style scoped>\n",
       "    .dataframe tbody tr th:only-of-type {\n",
       "        vertical-align: middle;\n",
       "    }\n",
       "\n",
       "    .dataframe tbody tr th {\n",
       "        vertical-align: top;\n",
       "    }\n",
       "\n",
       "    .dataframe thead th {\n",
       "        text-align: right;\n",
       "    }\n",
       "</style>\n",
       "<table border=\"1\" class=\"dataframe\">\n",
       "  <thead>\n",
       "    <tr style=\"text-align: right;\">\n",
       "      <th></th>\n",
       "      <th>Profit</th>\n",
       "    </tr>\n",
       "    <tr>\n",
       "      <th>Date</th>\n",
       "      <th></th>\n",
       "    </tr>\n",
       "  </thead>\n",
       "  <tbody>\n",
       "    <tr>\n",
       "      <th>Friday</th>\n",
       "      <td>3761.94</td>\n",
       "    </tr>\n",
       "    <tr>\n",
       "      <th>Monday</th>\n",
       "      <td>6847.34</td>\n",
       "    </tr>\n",
       "    <tr>\n",
       "      <th>Saturday</th>\n",
       "      <td>5223.16</td>\n",
       "    </tr>\n",
       "    <tr>\n",
       "      <th>Sunday</th>\n",
       "      <td>3086.46</td>\n",
       "    </tr>\n",
       "    <tr>\n",
       "      <th>Thursday</th>\n",
       "      <td>4866.03</td>\n",
       "    </tr>\n",
       "    <tr>\n",
       "      <th>Tuesday</th>\n",
       "      <td>3305.35</td>\n",
       "    </tr>\n",
       "    <tr>\n",
       "      <th>Wednesday</th>\n",
       "      <td>4392.47</td>\n",
       "    </tr>\n",
       "  </tbody>\n",
       "</table>\n",
       "</div>"
      ],
      "text/plain": [
       "            Profit\n",
       "Date              \n",
       "Friday     3761.94\n",
       "Monday     6847.34\n",
       "Saturday   5223.16\n",
       "Sunday     3086.46\n",
       "Thursday   4866.03\n",
       "Tuesday    3305.35\n",
       "Wednesday  4392.47"
      ]
     },
     "execution_count": 66,
     "metadata": {},
     "output_type": "execute_result"
    }
   ],
   "source": [
    "pivot_table"
   ]
  },
  {
   "cell_type": "code",
   "execution_count": 67,
   "id": "d350da70",
   "metadata": {},
   "outputs": [],
   "source": [
    "least_profitable_day = pivot_table.idxmin()"
   ]
  },
  {
   "cell_type": "code",
   "execution_count": 68,
   "id": "bae21c80",
   "metadata": {},
   "outputs": [
    {
     "data": {
      "text/plain": [
       "Profit    Sunday\n",
       "dtype: object"
      ]
     },
     "execution_count": 68,
     "metadata": {},
     "output_type": "execute_result"
    }
   ],
   "source": [
    "least_profitable_day"
   ]
  },
  {
   "cell_type": "code",
   "execution_count": 71,
   "id": "eb9b3c62",
   "metadata": {},
   "outputs": [
    {
     "data": {
      "image/png": "[encoded data removed]",
      "text/plain": [
       "<Figure size 1200x600 with 1 Axes>"
      ]
     },
     "metadata": {},
     "output_type": "display_data"
    }
   ],
   "source": [
    "plt.figure(figsize=(12,6))\n",
    "sns.barplot(x=pivot_table.index, y=pivot_table['Profit'])\n",
    "plt.title(f'Least Profitable Day of the Week: {least_profitable_day}')\n",
    "plt.xlabel('Day of the Week')\n",
    "plt.ylabel('Total Profit')\n",
    "plt.show()"
   ]
  },
  {
   "cell_type": "code",
   "execution_count": 72,
   "id": "cfcb6440",
   "metadata": {
    "scrolled": true
   },
   "outputs": [
    {
     "name": "stdout",
     "output_type": "stream",
     "text": [
      "The least profitable day of the week is: Profit    Sunday\n",
      "dtype: object\n"
     ]
    }
   ],
   "source": [
    "print(f\"The least profitable day of the week is: {least_profitable_day}\")"
   ]
  },
  {
   "cell_type": "code",
   "execution_count": null,
   "id": "616e8e28",
   "metadata": {},
   "outputs": [],
   "source": []
  },
  {
   "cell_type": "code",
   "execution_count": null,
   "id": "d81867fa",
   "metadata": {},
   "outputs": [],
   "source": []
  },
  {
   "cell_type": "code",
   "execution_count": null,
   "id": "38a0b5b2",
   "metadata": {},
   "outputs": [],
   "source": []
  },
  {
   "cell_type": "code",
   "execution_count": null,
   "id": "bf384893",
   "metadata": {},
   "outputs": [],
   "source": []
  },
  {
   "cell_type": "code",
   "execution_count": 87,
   "id": "9259e715",
   "metadata": {},
   "outputs": [],
   "source": [
    "df2 = pd.read_csv('sales_data_2.csv')"
   ]
  },
  {
   "cell_type": "code",
   "execution_count": 88,
   "id": "fb8a9bce",
   "metadata": {},
   "outputs": [],
   "source": [
    "df2_cpy = df2.copy()"
   ]
  },
  {
   "cell_type": "code",
   "execution_count": 89,
   "id": "7c7ea938",
   "metadata": {},
   "outputs": [
    {
     "data": {
      "text/html": [
       "<div>\n",
       "<style scoped>\n",
       "    .dataframe tbody tr th:only-of-type {\n",
       "        vertical-align: middle;\n",
       "    }\n",
       "\n",
       "    .dataframe tbody tr th {\n",
       "        vertical-align: top;\n",
       "    }\n",
       "\n",
       "    .dataframe thead th {\n",
       "        text-align: right;\n",
       "    }\n",
       "</style>\n",
       "<table border=\"1\" class=\"dataframe\">\n",
       "  <thead>\n",
       "    <tr style=\"text-align: right;\">\n",
       "      <th></th>\n",
       "      <th>Date</th>\n",
       "      <th>Firm bought from</th>\n",
       "      <th>Buying price</th>\n",
       "      <th>Quantity bought</th>\n",
       "      <th>Customer</th>\n",
       "      <th>Selling price</th>\n",
       "      <th>Quantity sold</th>\n",
       "    </tr>\n",
       "  </thead>\n",
       "  <tbody>\n",
       "    <tr>\n",
       "      <th>0</th>\n",
       "      <td>2023-08-21</td>\n",
       "      <td>Vendor6</td>\n",
       "      <td>72.11</td>\n",
       "      <td>60</td>\n",
       "      <td>Customer7</td>\n",
       "      <td>91.58</td>\n",
       "      <td>44</td>\n",
       "    </tr>\n",
       "    <tr>\n",
       "      <th>1</th>\n",
       "      <td>2023-08-21</td>\n",
       "      <td>Vendor4</td>\n",
       "      <td>75.08</td>\n",
       "      <td>92</td>\n",
       "      <td>Customer7</td>\n",
       "      <td>83.71</td>\n",
       "      <td>17</td>\n",
       "    </tr>\n",
       "    <tr>\n",
       "      <th>2</th>\n",
       "      <td>2023-08-21</td>\n",
       "      <td>Vendor7</td>\n",
       "      <td>83.93</td>\n",
       "      <td>16</td>\n",
       "      <td>Customer2</td>\n",
       "      <td>103.76</td>\n",
       "      <td>15</td>\n",
       "    </tr>\n",
       "    <tr>\n",
       "      <th>3</th>\n",
       "      <td>2023-08-21</td>\n",
       "      <td>Vendor7</td>\n",
       "      <td>52.01</td>\n",
       "      <td>62</td>\n",
       "      <td>Customer3</td>\n",
       "      <td>64.53</td>\n",
       "      <td>7</td>\n",
       "    </tr>\n",
       "    <tr>\n",
       "      <th>4</th>\n",
       "      <td>2023-08-21</td>\n",
       "      <td>Vendor2</td>\n",
       "      <td>98.91</td>\n",
       "      <td>1</td>\n",
       "      <td>Customer5</td>\n",
       "      <td>140.92</td>\n",
       "      <td>1</td>\n",
       "    </tr>\n",
       "  </tbody>\n",
       "</table>\n",
       "</div>"
      ],
      "text/plain": [
       "         Date Firm bought from  Buying price  Quantity bought   Customer  \\\n",
       "0  2023-08-21          Vendor6         72.11               60  Customer7   \n",
       "1  2023-08-21          Vendor4         75.08               92  Customer7   \n",
       "2  2023-08-21          Vendor7         83.93               16  Customer2   \n",
       "3  2023-08-21          Vendor7         52.01               62  Customer3   \n",
       "4  2023-08-21          Vendor2         98.91                1  Customer5   \n",
       "\n",
       "   Selling price  Quantity sold  \n",
       "0          91.58             44  \n",
       "1          83.71             17  \n",
       "2         103.76             15  \n",
       "3          64.53              7  \n",
       "4         140.92              1  "
      ]
     },
     "execution_count": 89,
     "metadata": {},
     "output_type": "execute_result"
    }
   ],
   "source": [
    "df2_cpy.head()"
   ]
  },
  {
   "cell_type": "markdown",
   "id": "1c93598f",
   "metadata": {},
   "source": [
    "## 6. Calculate a 3-day average of the daily gross profit"
   ]
  },
  {
   "cell_type": "code",
   "execution_count": 90,
   "id": "41e87f07",
   "metadata": {},
   "outputs": [],
   "source": [
    "df2_date_sorted = df2_cpy.sort_values('Date')"
   ]
  },
  {
   "cell_type": "code",
   "execution_count": 91,
   "id": "48b48461",
   "metadata": {},
   "outputs": [
    {
     "data": {
      "text/html": [
       "<div>\n",
       "<style scoped>\n",
       "    .dataframe tbody tr th:only-of-type {\n",
       "        vertical-align: middle;\n",
       "    }\n",
       "\n",
       "    .dataframe tbody tr th {\n",
       "        vertical-align: top;\n",
       "    }\n",
       "\n",
       "    .dataframe thead th {\n",
       "        text-align: right;\n",
       "    }\n",
       "</style>\n",
       "<table border=\"1\" class=\"dataframe\">\n",
       "  <thead>\n",
       "    <tr style=\"text-align: right;\">\n",
       "      <th></th>\n",
       "      <th>Date</th>\n",
       "      <th>Firm bought from</th>\n",
       "      <th>Buying price</th>\n",
       "      <th>Quantity bought</th>\n",
       "      <th>Customer</th>\n",
       "      <th>Selling price</th>\n",
       "      <th>Quantity sold</th>\n",
       "    </tr>\n",
       "  </thead>\n",
       "  <tbody>\n",
       "    <tr>\n",
       "      <th>0</th>\n",
       "      <td>2023-08-21</td>\n",
       "      <td>Vendor6</td>\n",
       "      <td>72.11</td>\n",
       "      <td>60</td>\n",
       "      <td>Customer7</td>\n",
       "      <td>91.58</td>\n",
       "      <td>44</td>\n",
       "    </tr>\n",
       "    <tr>\n",
       "      <th>1</th>\n",
       "      <td>2023-08-21</td>\n",
       "      <td>Vendor4</td>\n",
       "      <td>75.08</td>\n",
       "      <td>92</td>\n",
       "      <td>Customer7</td>\n",
       "      <td>83.71</td>\n",
       "      <td>17</td>\n",
       "    </tr>\n",
       "    <tr>\n",
       "      <th>2</th>\n",
       "      <td>2023-08-21</td>\n",
       "      <td>Vendor7</td>\n",
       "      <td>83.93</td>\n",
       "      <td>16</td>\n",
       "      <td>Customer2</td>\n",
       "      <td>103.76</td>\n",
       "      <td>15</td>\n",
       "    </tr>\n",
       "    <tr>\n",
       "      <th>3</th>\n",
       "      <td>2023-08-21</td>\n",
       "      <td>Vendor7</td>\n",
       "      <td>52.01</td>\n",
       "      <td>62</td>\n",
       "      <td>Customer3</td>\n",
       "      <td>64.53</td>\n",
       "      <td>7</td>\n",
       "    </tr>\n",
       "    <tr>\n",
       "      <th>4</th>\n",
       "      <td>2023-08-21</td>\n",
       "      <td>Vendor2</td>\n",
       "      <td>98.91</td>\n",
       "      <td>1</td>\n",
       "      <td>Customer5</td>\n",
       "      <td>140.92</td>\n",
       "      <td>1</td>\n",
       "    </tr>\n",
       "  </tbody>\n",
       "</table>\n",
       "</div>"
      ],
      "text/plain": [
       "         Date Firm bought from  Buying price  Quantity bought   Customer  \\\n",
       "0  2023-08-21          Vendor6         72.11               60  Customer7   \n",
       "1  2023-08-21          Vendor4         75.08               92  Customer7   \n",
       "2  2023-08-21          Vendor7         83.93               16  Customer2   \n",
       "3  2023-08-21          Vendor7         52.01               62  Customer3   \n",
       "4  2023-08-21          Vendor2         98.91                1  Customer5   \n",
       "\n",
       "   Selling price  Quantity sold  \n",
       "0          91.58             44  \n",
       "1          83.71             17  \n",
       "2         103.76             15  \n",
       "3          64.53              7  \n",
       "4         140.92              1  "
      ]
     },
     "execution_count": 91,
     "metadata": {},
     "output_type": "execute_result"
    }
   ],
   "source": [
    "df2_date_sorted.head()"
   ]
  },
  {
   "cell_type": "code",
   "execution_count": 96,
   "id": "eef6e0d5",
   "metadata": {},
   "outputs": [],
   "source": [
    "df2_date_sorted['Daily Gross Profit'] = (df2_date_sorted['Selling price'] * df2_date_sorted['Quantity sold']) - (df2_date_sorted['Buying price'] * df2_date_sorted['Quantity bought'])"
   ]
  },
  {
   "cell_type": "code",
   "execution_count": 93,
   "id": "0f273916",
   "metadata": {},
   "outputs": [],
   "source": [
    "df2_date_sorted['3-day Average Gross Profit'] = df2_date_sorted['Daily Gross Profit'].rolling(window=3).mean()"
   ]
  },
  {
   "cell_type": "code",
   "execution_count": 98,
   "id": "b25bdc07",
   "metadata": {},
   "outputs": [
    {
     "data": {
      "text/html": [
       "<div>\n",
       "<style scoped>\n",
       "    .dataframe tbody tr th:only-of-type {\n",
       "        vertical-align: middle;\n",
       "    }\n",
       "\n",
       "    .dataframe tbody tr th {\n",
       "        vertical-align: top;\n",
       "    }\n",
       "\n",
       "    .dataframe thead th {\n",
       "        text-align: right;\n",
       "    }\n",
       "</style>\n",
       "<table border=\"1\" class=\"dataframe\">\n",
       "  <thead>\n",
       "    <tr style=\"text-align: right;\">\n",
       "      <th></th>\n",
       "      <th>Date</th>\n",
       "      <th>Firm bought from</th>\n",
       "      <th>Buying price</th>\n",
       "      <th>Quantity bought</th>\n",
       "      <th>Customer</th>\n",
       "      <th>Selling price</th>\n",
       "      <th>Quantity sold</th>\n",
       "      <th>Daily Gross Profit</th>\n",
       "      <th>3-day Average Gross Profit</th>\n",
       "    </tr>\n",
       "  </thead>\n",
       "  <tbody>\n",
       "    <tr>\n",
       "      <th>0</th>\n",
       "      <td>2023-08-21</td>\n",
       "      <td>Vendor6</td>\n",
       "      <td>72.11</td>\n",
       "      <td>60</td>\n",
       "      <td>Customer7</td>\n",
       "      <td>91.58</td>\n",
       "      <td>44</td>\n",
       "      <td>-297.08</td>\n",
       "      <td>NaN</td>\n",
       "    </tr>\n",
       "    <tr>\n",
       "      <th>1</th>\n",
       "      <td>2023-08-21</td>\n",
       "      <td>Vendor4</td>\n",
       "      <td>75.08</td>\n",
       "      <td>92</td>\n",
       "      <td>Customer7</td>\n",
       "      <td>83.71</td>\n",
       "      <td>17</td>\n",
       "      <td>-5484.29</td>\n",
       "      <td>NaN</td>\n",
       "    </tr>\n",
       "    <tr>\n",
       "      <th>2</th>\n",
       "      <td>2023-08-21</td>\n",
       "      <td>Vendor7</td>\n",
       "      <td>83.93</td>\n",
       "      <td>16</td>\n",
       "      <td>Customer2</td>\n",
       "      <td>103.76</td>\n",
       "      <td>15</td>\n",
       "      <td>213.52</td>\n",
       "      <td>-1855.950000</td>\n",
       "    </tr>\n",
       "    <tr>\n",
       "      <th>3</th>\n",
       "      <td>2023-08-21</td>\n",
       "      <td>Vendor7</td>\n",
       "      <td>52.01</td>\n",
       "      <td>62</td>\n",
       "      <td>Customer3</td>\n",
       "      <td>64.53</td>\n",
       "      <td>7</td>\n",
       "      <td>-2772.91</td>\n",
       "      <td>-2681.226667</td>\n",
       "    </tr>\n",
       "    <tr>\n",
       "      <th>4</th>\n",
       "      <td>2023-08-21</td>\n",
       "      <td>Vendor2</td>\n",
       "      <td>98.91</td>\n",
       "      <td>1</td>\n",
       "      <td>Customer5</td>\n",
       "      <td>140.92</td>\n",
       "      <td>1</td>\n",
       "      <td>42.01</td>\n",
       "      <td>-839.126667</td>\n",
       "    </tr>\n",
       "  </tbody>\n",
       "</table>\n",
       "</div>"
      ],
      "text/plain": [
       "         Date Firm bought from  Buying price  Quantity bought   Customer  \\\n",
       "0  2023-08-21          Vendor6         72.11               60  Customer7   \n",
       "1  2023-08-21          Vendor4         75.08               92  Customer7   \n",
       "2  2023-08-21          Vendor7         83.93               16  Customer2   \n",
       "3  2023-08-21          Vendor7         52.01               62  Customer3   \n",
       "4  2023-08-21          Vendor2         98.91                1  Customer5   \n",
       "\n",
       "   Selling price  Quantity sold  Daily Gross Profit  \\\n",
       "0          91.58             44             -297.08   \n",
       "1          83.71             17            -5484.29   \n",
       "2         103.76             15              213.52   \n",
       "3          64.53              7            -2772.91   \n",
       "4         140.92              1               42.01   \n",
       "\n",
       "   3-day Average Gross Profit  \n",
       "0                         NaN  \n",
       "1                         NaN  \n",
       "2                -1855.950000  \n",
       "3                -2681.226667  \n",
       "4                 -839.126667  "
      ]
     },
     "execution_count": 98,
     "metadata": {},
     "output_type": "execute_result"
    }
   ],
   "source": [
    "df2_date_sorted.head()"
   ]
  },
  {
   "cell_type": "code",
   "execution_count": 99,
   "id": "e9b0eefd",
   "metadata": {},
   "outputs": [
    {
     "name": "stdout",
     "output_type": "stream",
     "text": [
      "         Date  3-day Average Gross Profit\n",
      "0  2023-08-21                         NaN\n",
      "1  2023-08-21                         NaN\n",
      "2  2023-08-21                -1855.950000\n",
      "3  2023-08-21                -2681.226667\n",
      "4  2023-08-21                 -839.126667\n",
      "5  2023-08-21                 -434.123333\n",
      "6  2023-08-21                  530.580000\n",
      "7  2023-08-21                 1522.010000\n",
      "8  2023-08-21                  561.936667\n",
      "9  2023-08-21                  156.063333\n"
     ]
    }
   ],
   "source": [
    "print(df2_date_sorted[['Date', '3-day Average Gross Profit']].head(10))"
   ]
  },
  {
   "cell_type": "markdown",
   "id": "ec6ca2b3",
   "metadata": {},
   "source": [
    "## 7. provide insights into how this 3-day trend changes over the time period covered in the dataset"
   ]
  },
  {
   "cell_type": "code",
   "execution_count": 108,
   "id": "5b81a608",
   "metadata": {},
   "outputs": [],
   "source": [
    "df2_date_sorted['Date'] = pd.to_datetime(df2_date_sorted['Date'], errors='coerce')"
   ]
  },
  {
   "cell_type": "code",
   "execution_count": 109,
   "id": "4ede2ada",
   "metadata": {},
   "outputs": [],
   "source": [
    "df_day = df2_date_sorted.set_index('Date').resample('D').last()"
   ]
  },
  {
   "cell_type": "code",
   "execution_count": 110,
   "id": "228f98c1",
   "metadata": {},
   "outputs": [],
   "source": [
    "df2_date_sorted['3-day Average Gross Profit'].fillna(0, inplace=True)"
   ]
  },
  {
   "cell_type": "code",
   "execution_count": 111,
   "id": "8a7c9055",
   "metadata": {},
   "outputs": [
    {
     "data": {
      "image/png": "[encoded data removed]",
      "text/plain": [
       "<Figure size 1000x500 with 1 Axes>"
      ]
     },
     "metadata": {},
     "output_type": "display_data"
    }
   ],
   "source": [
    "plt.figure(figsize=(10,5))\n",
    "plt.plot(df2_date_sorted.index, df2_date_sorted['3-day Average Gross Profit'], label='3-day Average Gross Profit')\n",
    "plt.xlabel('Date')\n",
    "plt.ylabel('Profit')\n",
    "plt.title('3-day Average Gross Profit Trend')\n",
    "plt.legend()\n",
    "plt.show()"
   ]
  },
  {
   "cell_type": "markdown",
   "id": "cf61af9f",
   "metadata": {},
   "source": [
    "## 8. Can you optimize the sales process to ensure gross margin is maximized?\n",
    "\n",
    "    8.1 Would you fire any vendors?\n",
    "    8.2 Would you let go of any customers?"
   ]
  },
  {
   "cell_type": "raw",
   "id": "a51dc64d",
   "metadata": {},
   "source": [
    "To optimize the sales process to ensure gross margin is maximized, we can take the following steps:\n",
    "    \n",
    "    -> Review vendor relationships and contracts, we can reduce the number of vendors or replace them\n",
    "    \n",
    "    -> Review the profit margins for each vendor and ensure that they are doing good to the overall profit of the company\n",
    "    \n",
    "    -> Check the quality and value of the products offered by the vendor and work with vendors to reduce cost whil holding the product quality\n",
    "    \n",
    "    -> Monitor the efficiency of the sales. Look for the areas where the cost can be reduced and increase the sales and maintain the quality of the product\n",
    "\n",
    "\n",
    "8.1 Vendor relationships and contracts would be reviewed to identify any vendor that are not providing the best value for the company. After considering certain factors like place for improvement and reconsidering the contracts firings may need to occur.\n",
    "\n",
    "8.2 Customer relationships would also be reviewed to ensure their value to the company. In some cases, we may need to let go of the customer, especially if they are not contributing to the profitability."
   ]
  },
  {
   "cell_type": "code",
   "execution_count": null,
   "id": "b8395f4d",
   "metadata": {},
   "outputs": [],
   "source": []
  }
 ],
 "metadata": {
  "kernelspec": {
   "display_name": "Python 3 (ipykernel)",
   "language": "python",
   "name": "python3"
  },
  "language_info": {
   "codemirror_mode": {
    "name": "ipython",
    "version": 3
   },
   "file_extension": ".py",
   "mimetype": "text/x-python",
   "name": "python",
   "nbconvert_exporter": "python",
   "pygments_lexer": "ipython3",
   "version": "3.11.5"
  }
 },
 "nbformat": 4,
 "nbformat_minor": 5
}
